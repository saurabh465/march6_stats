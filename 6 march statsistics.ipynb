{
 "cells": [
  {
   "cell_type": "markdown",
   "id": "8193a1b1-ba5c-401d-9205-3f0f0096c2dd",
   "metadata": {},
   "source": [
    "#question 1 \n",
    "\n",
    "Statistics is all about working with data to understand and describe patterns. It helps us make sense of information by organizing it, finding averages, and seeing how things are related. We can use statistics to make predictions and draw conclusions about larger groups based on smaller samples of data. Probability is a way to measure how likely something is to happen, and statistical models are tools we use to analyze data and make predictions."
   ]
  },
  {
   "cell_type": "markdown",
   "id": "30976a30-aefd-43f3-9080-26d58c54b5ea",
   "metadata": {},
   "source": [
    "#question 2 \n",
    "\n",
    "Two types of statistics :\n",
    " 1 Descriptive Statistics:\n",
    "Descriptive statistics focuses on summarizing and describing data in a straightforward manner. It aims to provide a clear and precise  summary of the data at hand. like mean ,median ,mode. histogram  etc \n",
    "\n",
    " ex :-  Let's say you have collected data on the ages of people attending a music festival. Descriptive statistics would be used to calculate measures such as the average age, the most common age range, or the dispersion of ages. These statistics help you understand the age distribution of festival attendees without making any inferences beyond the observed data.\n",
    " \n",
    " 2 Inferential Statistics:\n",
    "Inferential statistics involves drawing conclusions and making predictions about a larger population based on a sample of data. It utilizes probability and statistical techniques to make generalizations. like Existence , P value , t test etc .Data Type: Quantitative (Continuous)\n",
    " \n",
    "\n",
    "Ex:-  Suppose you want to determine whether a new teaching method improves student performance. You select a sample of students and randomly assign them to either the traditional teaching method or the new method. After assessing their performance, inferential statistics would be used to analyze the data and determine if the observed differences in performance between the two groups are statistically significant. This analysis allows you to draw conclusions about the effectiveness of the new teaching method for the entire student population."
   ]
  },
  {
   "cell_type": "markdown",
   "id": "63425979-fe46-481a-b15f-cc0743ac3c1f",
   "metadata": {},
   "source": [
    "#question 4 \n",
    "\n",
    "\n",
    "1)Data Type: Qualitative (Ordinal)\n",
    "\n",
    "    2)Data Type: Qualitative (Nominal)\n",
    "    \n",
    "    3)Data Type: Quantitative (Continuous)\n",
    "    \n",
    "    4)Data Type: Quantitative (Discrete)\n",
    "\n"
   ]
  },
  {
   "cell_type": "markdown",
   "id": "8eef1fcb-fac0-48cd-9f9d-821afd8c6087",
   "metadata": {},
   "source": [
    "#question 3\n",
    "\n",
    "Nominal Data:\n",
    "    This type of data involves categories or labels with no particular order. For example: colors (red, blue, green) or types of animals (cat, dog, bird).\n",
    "\n",
    "Ordinal Data:\n",
    "    Ordinal data has categories with a natural order or ranking. The differences between categories may not be equal, but there is a relative order. For example: educational attainment levels (high school diploma, bachelor's degree, master's degree) or ratings (low, medium, high).\n",
    "\n",
    "Discrete Data: \n",
    "    Discrete data consists of separate and distinct values that often result from counting. These values are typically whole numbers and cannot have any value within a range. For example: number of students in a class or number of cars in a parking lot.\n",
    "\n",
    "Continuous Data: \n",
    "    Continuous data represents values that can take on any value within a range, including fractions or decimal values. For example: temperature measured with a thermometer or time taken to complete a task.\n",
    "\n"
   ]
  },
  {
   "cell_type": "markdown",
   "id": "e9d4aa5a-0ab3-4e70-842a-7ed4b168c61c",
   "metadata": {},
   "source": [
    "#quesion 5 \n",
    "\n",
    "Nominal Level: This level involves variables that are categories or labels without any particular order. Example: Eye colors (blue, brown, green) or types of vehicles (car, truck, motorcycle).\n",
    "\n",
    "Ordinal Level: Variables at this level have categories with a natural order or ranking, but the differences between categories may not be equal. Example: Educational attainment levels (high school diploma, bachelor's degree, master's degree) or customer satisfaction ratings (low, medium, high).\n",
    "\n",
    "Interval Level: Variables at this level have categories with equal intervals between values, but they lack a meaningful zero point. Example: Temperature in Celsius or Fahrenheit (where zero does not mean the absence of temperature) or years (where zero does not indicate the absence of time).\n",
    "\n",
    "Ratio Level: Variables at this level have categories with equal intervals between values and a meaningful zero point indicating the absence of the attribute. Example: Height (measured in centimeters or inches; zero means no height) or weight (measured in kilograms or pounds; zero means no weight)."
   ]
  },
  {
   "cell_type": "markdown",
   "id": "129e5bc1-d0ec-461b-b0d6-db97c3df4f06",
   "metadata": {},
   "source": [
    "#question 6 \n",
    "\n",
    "Understanding the level of measurement is crucial when analyzing data because it determines the appropriate statistical techniques and operations that can be applied to the data. It helps ensure that the analysis is valid and meaningful.\n",
    "\n",
    "Imagine you have data on the favorite ice cream flavors of people. The flavors are categorized as follows: chocolate, vanilla, strawberry, and mint.\n",
    "\n",
    "If you treat the flavors as nominal data, you can count the number of people who prefer each flavor and make comparisons between them. For example, you can say that chocolate is the most popular flavor based on the highest count.\n",
    "\n",
    "But if you mistakenly treat the flavors as ordinal data and assign numerical values (e.g., 1 for chocolate, 2 for vanilla, etc.), it would imply an order or ranking between the flavors that doesn't actually exist. It would be incorrect to calculate the average flavor preference because the numbers are arbitrary and do not represent a true ranking.\n",
    "\n",
    "So, understanding the level of measurement helps you use appropriate statistical techniques. By recognizing that the data is nominal, you can correctly analyze it using methods like frequency counts and mode."
   ]
  },
  {
   "cell_type": "markdown",
   "id": "9a647b31-83af-4437-b52d-ca0e9ea1b6f2",
   "metadata": {},
   "source": [
    "#question 7 \n",
    " the key distinction between nominal and ordinal data lies in the nature of their categories and the level of information they provide. Nominal data has categories without an inherent order, while ordinal data has categories with a natural order or ranking, although the differences between categories may not be equal."
   ]
  },
  {
   "cell_type": "markdown",
   "id": "0b26e0a7-6759-4df2-8747-6991fff6f83a",
   "metadata": {},
   "source": [
    "#question 8 \n",
    "\n",
    "box plot "
   ]
  },
  {
   "cell_type": "markdown",
   "id": "a3c8232c-dd82-453f-8e2b-995313322d34",
   "metadata": {},
   "source": [
    "#question 9\n",
    "\n",
    " 1 Descriptive Statistics: Descriptive statistics focuses on summarizing and describing data in a straightforward manner. It aims to provide a clear and precise summary of the data at hand. like mean ,median ,mode. histogram etc\n",
    "\n",
    "ex :- Let's say you have collected data on the ages of people attending a music festival. Descriptive statistics would be used to calculate measures such as the average age, the most common age range, or the dispersion of ages. These statistics help you understand the age distribution of festival attendees without making any inferences beyond the observed data.\n",
    "\n",
    "2 Inferential Statistics: Inferential statistics involves drawing conclusions and making predictions about a larger population based on a sample of data. It utilizes probability and statistical techniques to make generalizations. like Existence , P value , t test etc .Data Type: Quantitative (Continuous)\n",
    "\n",
    "Ex:- Suppose you want to determine whether a new teaching method improves student performance. You select a sample of students and randomly assign them to either the traditional teaching method or the new method. After assessing their performance, inferential statistics would be used to analyze the data and determine if the observed differences in performance between the two groups are statistically significant. This analysis allows you to draw conclusions about the effectiveness of the new teaching method for the entire student population."
   ]
  },
  {
   "cell_type": "code",
   "execution_count": null,
   "id": "81981f15-8ca8-483c-bdae-5bf436619694",
   "metadata": {},
   "outputs": [],
   "source": [
    "#question 10 \n",
    "\n"
   ]
  }
 ],
 "metadata": {
  "kernelspec": {
   "display_name": "Python 3 (ipykernel)",
   "language": "python",
   "name": "python3"
  },
  "language_info": {
   "codemirror_mode": {
    "name": "ipython",
    "version": 3
   },
   "file_extension": ".py",
   "mimetype": "text/x-python",
   "name": "python",
   "nbconvert_exporter": "python",
   "pygments_lexer": "ipython3",
   "version": "3.10.8"
  }
 },
 "nbformat": 4,
 "nbformat_minor": 5
}
